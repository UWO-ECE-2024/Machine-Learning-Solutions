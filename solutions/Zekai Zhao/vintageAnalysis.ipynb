{
 "cells": [
  {
   "cell_type": "code",
   "execution_count": 4,
   "id": "initial_id",
   "metadata": {
    "collapsed": true,
    "ExecuteTime": {
     "end_time": "2025-03-23T15:34:24.159878400Z",
     "start_time": "2025-03-23T15:34:23.949713300Z"
    }
   },
   "outputs": [
    {
     "name": "stdout",
     "output_type": "stream",
     "text": [
      "The new CSV file 'credit_approval_labels.csv' has been created.\n"
     ]
    }
   ],
   "source": [
    "import pandas as pd\n",
    "\n",
    "# Define the risk score mapping for each status code\n",
    "risk_mapping = {\n",
    "    'C': 0,\n",
    "    'X': 0,\n",
    "    '0': 1,\n",
    "    '1': 2,\n",
    "    '2': 3,\n",
    "    '3': 4,\n",
    "    '4': 5,\n",
    "    '5': 6\n",
    "}\n",
    "\n",
    "df = pd.read_csv('credit_record.csv')\n",
    "\n",
    "# Map the STATUS values to risk scores\n",
    "df['risk_score'] = df['STATUS'].map(risk_mapping)\n",
    "\n",
    "#  Calculate aggregate metrics (Group by client ID)\n",
    "agg_df = df.groupby('ID').agg(\n",
    "    total_risk_score=('risk_score', 'sum'),\n",
    "    average_risk_score=('risk_score', 'mean'),\n",
    "    max_risk_score=('risk_score', 'max')\n",
    ").reset_index()\n",
    "\n",
    "# A client is labeled \"Not Approved\" (0) if either:\n",
    "#   - max risk score is 3 or higher, or\n",
    "#   - average risk score is 1.0 or higher.\n",
    "# Otherwise, label as \"Approved\" (1).\n",
    "agg_df['IS_APPROVED'] = ((agg_df['max_risk_score'] < 3) & (agg_df['average_risk_score'] < 1.0)).astype(int)\n",
    "result_df = agg_df[['ID', 'IS_APPROVED']]\n",
    "result_df.to_csv('credit_approval_labels.csv', index=False)\n"
   ]
  }
 ],
 "metadata": {
  "kernelspec": {
   "display_name": "Python 3",
   "language": "python",
   "name": "python3"
  },
  "language_info": {
   "codemirror_mode": {
    "name": "ipython",
    "version": 2
   },
   "file_extension": ".py",
   "mimetype": "text/x-python",
   "name": "python",
   "nbconvert_exporter": "python",
   "pygments_lexer": "ipython2",
   "version": "2.7.6"
  }
 },
 "nbformat": 4,
 "nbformat_minor": 5
}
